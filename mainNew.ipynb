{
 "cells": [
  {
   "cell_type": "code",
   "execution_count": 1,
   "metadata": {},
   "outputs": [],
   "source": [
    "import pickle\n",
    "import matplotlib.pyplot as plt\n",
    "import seaborn as sns\n",
    "import pandas as pd\n",
    "import numpy as np\n",
    "import re\n",
    "import nltk\n",
    "from nltk.tokenize import word_tokenize\n",
    "from nltk.corpus import stopwords\n",
    "from nltk.stem import WordNetLemmatizer\n",
    "from sklearn.utils import shuffle\n",
    "#CountVectorizer --> Bag of words\n",
    "#TfidfVectorizer --> Tf-IDF\n",
    "#gensim.models.Word2Vec --> word embeddings (word2vec)\n",
    "from sklearn.feature_extraction.text import CountVectorizer, TfidfVectorizer\n",
    "from gensim.models import Word2Vec\n",
    "from sklearn.naive_bayes import GaussianNB, MultinomialNB\n",
    "from sklearn.neighbors import KNeighborsClassifier\n",
    "from sklearn.svm import LinearSVC, SVC\n",
    "from sklearn.preprocessing import StandardScaler\n",
    "from sklearn.model_selection import train_test_split\n",
    "from sklearn.metrics import accuracy_score\n",
    "from sklearn.decomposition import PCA\n",
    "from imblearn.over_sampling import SMOTE\n"
   ]
  },
  {
   "cell_type": "code",
   "execution_count": 2,
   "metadata": {},
   "outputs": [
    {
     "data": {
      "text/html": [
       "<div>\n",
       "<style scoped>\n",
       "    .dataframe tbody tr th:only-of-type {\n",
       "        vertical-align: middle;\n",
       "    }\n",
       "\n",
       "    .dataframe tbody tr th {\n",
       "        vertical-align: top;\n",
       "    }\n",
       "\n",
       "    .dataframe thead th {\n",
       "        text-align: right;\n",
       "    }\n",
       "</style>\n",
       "<table border=\"1\" class=\"dataframe\">\n",
       "  <thead>\n",
       "    <tr style=\"text-align: right;\">\n",
       "      <th></th>\n",
       "      <th>Unnamed: 0</th>\n",
       "      <th>Id</th>\n",
       "      <th>Review</th>\n",
       "      <th>Label</th>\n",
       "      <th>cleaned_reviews</th>\n",
       "      <th>z_score</th>\n",
       "      <th>sentiment</th>\n",
       "    </tr>\n",
       "  </thead>\n",
       "  <tbody>\n",
       "    <tr>\n",
       "      <th>0</th>\n",
       "      <td>0</td>\n",
       "      <td>0</td>\n",
       "      <td>good and interesting</td>\n",
       "      <td>5</td>\n",
       "      <td>ood interesting</td>\n",
       "      <td>0.4865</td>\n",
       "      <td>pos</td>\n",
       "    </tr>\n",
       "    <tr>\n",
       "      <th>1</th>\n",
       "      <td>1</td>\n",
       "      <td>1</td>\n",
       "      <td>This class is very helpful to me. Currently, I...</td>\n",
       "      <td>5</td>\n",
       "      <td>class helpful . currently , 'm still learning ...</td>\n",
       "      <td>0.4865</td>\n",
       "      <td>pos</td>\n",
       "    </tr>\n",
       "    <tr>\n",
       "      <th>2</th>\n",
       "      <td>2</td>\n",
       "      <td>2</td>\n",
       "      <td>like!Prof and TAs are helpful and the discussi...</td>\n",
       "      <td>5</td>\n",
       "      <td>ike ! prof ta helpful discussion among student...</td>\n",
       "      <td>0.4865</td>\n",
       "      <td>pos</td>\n",
       "    </tr>\n",
       "    <tr>\n",
       "      <th>3</th>\n",
       "      <td>3</td>\n",
       "      <td>3</td>\n",
       "      <td>Easy to follow and includes a lot basic and im...</td>\n",
       "      <td>5</td>\n",
       "      <td>asy follow includes lot basic important techni...</td>\n",
       "      <td>0.4865</td>\n",
       "      <td>pos</td>\n",
       "    </tr>\n",
       "    <tr>\n",
       "      <th>4</th>\n",
       "      <td>4</td>\n",
       "      <td>4</td>\n",
       "      <td>Really nice teacher!I could got the point eazl...</td>\n",
       "      <td>4</td>\n",
       "      <td>eally nice teacher ! could got point eazliy v</td>\n",
       "      <td>-0.6750</td>\n",
       "      <td>pos</td>\n",
       "    </tr>\n",
       "  </tbody>\n",
       "</table>\n",
       "</div>"
      ],
      "text/plain": [
       "   Unnamed: 0  Id                                             Review  Label  \\\n",
       "0           0   0                               good and interesting      5   \n",
       "1           1   1  This class is very helpful to me. Currently, I...      5   \n",
       "2           2   2  like!Prof and TAs are helpful and the discussi...      5   \n",
       "3           3   3  Easy to follow and includes a lot basic and im...      5   \n",
       "4           4   4  Really nice teacher!I could got the point eazl...      4   \n",
       "\n",
       "                                     cleaned_reviews  z_score sentiment  \n",
       "0                                    ood interesting   0.4865       pos  \n",
       "1  class helpful . currently , 'm still learning ...   0.4865       pos  \n",
       "2  ike ! prof ta helpful discussion among student...   0.4865       pos  \n",
       "3  asy follow includes lot basic important techni...   0.4865       pos  \n",
       "4      eally nice teacher ! could got point eazliy v  -0.6750       pos  "
      ]
     },
     "execution_count": 2,
     "metadata": {},
     "output_type": "execute_result"
    }
   ],
   "source": [
    "df = pd.read_csv('preprocessed_data.csv')\n",
    "df.head()"
   ]
  },
  {
   "cell_type": "code",
   "execution_count": 4,
   "metadata": {},
   "outputs": [],
   "source": [
    "X = df['cleaned_reviews']\n",
    "Y = df['sentiment']\n",
    "X.fillna('', inplace=True)"
   ]
  },
  {
   "cell_type": "code",
   "execution_count": 6,
   "metadata": {},
   "outputs": [],
   "source": [
    "# bag of words\n",
    "bow = CountVectorizer()\n",
    "X_bow = bow.fit_transform(X)\n",
    "# TF-IDF\n",
    "tfidf = TfidfVectorizer()\n",
    "X_tfidf = tfidf.fit_transform(X)\n",
    "#load the Word2Vec\n",
    "w2v = Word2Vec.load('./trained-word2vec-studentReviews.model')\n",
    "#creating sentence vector:\n",
    "def sentence_to_vector(sentence, model):\n",
    "    words = sentence.split()\n",
    "    word_vectors = [model.wv[word] for word in words if word in model.wv]\n",
    "    if not word_vectors:  # If the sentence contains no words in the model's vocabulary\n",
    "        return np.zeros(model.vector_size)\n",
    "    return np.mean(word_vectors, axis=0)\n",
    "\n",
    "# Create vectors for all sentences\n",
    "X_w2v = np.array([sentence_to_vector(sentence, w2v) for sentence in X])"
   ]
  },
  {
   "cell_type": "code",
   "execution_count": 8,
   "metadata": {},
   "outputs": [],
   "source": [
    "#test_size = 0.2 --> 20% of the data goes for testing and the remaing 80% goes for traning\n",
    "#random_state = 42 --> ensures that the data is split in the same random way across all code runs-> this ensures efficient debugging\n",
    "X_train_bow, X_test_bow, Y_train, Y_test = train_test_split(X_bow, Y, test_size=0.2, random_state=42)\n",
    "X_train_tfidf, X_test_tfidf,_, _ = train_test_split(X_tfidf, Y, test_size=0.2, random_state=42)\n",
    "X_train_w2v, X_test_w2v,_, _ = train_test_split(X_w2v, Y, test_size=0.2, random_state=42)"
   ]
  },
  {
   "cell_type": "code",
   "execution_count": 9,
   "metadata": {},
   "outputs": [
    {
     "data": {
      "text/html": [
       "<style>#sk-container-id-1 {color: black;}#sk-container-id-1 pre{padding: 0;}#sk-container-id-1 div.sk-toggleable {background-color: white;}#sk-container-id-1 label.sk-toggleable__label {cursor: pointer;display: block;width: 100%;margin-bottom: 0;padding: 0.3em;box-sizing: border-box;text-align: center;}#sk-container-id-1 label.sk-toggleable__label-arrow:before {content: \"▸\";float: left;margin-right: 0.25em;color: #696969;}#sk-container-id-1 label.sk-toggleable__label-arrow:hover:before {color: black;}#sk-container-id-1 div.sk-estimator:hover label.sk-toggleable__label-arrow:before {color: black;}#sk-container-id-1 div.sk-toggleable__content {max-height: 0;max-width: 0;overflow: hidden;text-align: left;background-color: #f0f8ff;}#sk-container-id-1 div.sk-toggleable__content pre {margin: 0.2em;color: black;border-radius: 0.25em;background-color: #f0f8ff;}#sk-container-id-1 input.sk-toggleable__control:checked~div.sk-toggleable__content {max-height: 200px;max-width: 100%;overflow: auto;}#sk-container-id-1 input.sk-toggleable__control:checked~label.sk-toggleable__label-arrow:before {content: \"▾\";}#sk-container-id-1 div.sk-estimator input.sk-toggleable__control:checked~label.sk-toggleable__label {background-color: #d4ebff;}#sk-container-id-1 div.sk-label input.sk-toggleable__control:checked~label.sk-toggleable__label {background-color: #d4ebff;}#sk-container-id-1 input.sk-hidden--visually {border: 0;clip: rect(1px 1px 1px 1px);clip: rect(1px, 1px, 1px, 1px);height: 1px;margin: -1px;overflow: hidden;padding: 0;position: absolute;width: 1px;}#sk-container-id-1 div.sk-estimator {font-family: monospace;background-color: #f0f8ff;border: 1px dotted black;border-radius: 0.25em;box-sizing: border-box;margin-bottom: 0.5em;}#sk-container-id-1 div.sk-estimator:hover {background-color: #d4ebff;}#sk-container-id-1 div.sk-parallel-item::after {content: \"\";width: 100%;border-bottom: 1px solid gray;flex-grow: 1;}#sk-container-id-1 div.sk-label:hover label.sk-toggleable__label {background-color: #d4ebff;}#sk-container-id-1 div.sk-serial::before {content: \"\";position: absolute;border-left: 1px solid gray;box-sizing: border-box;top: 0;bottom: 0;left: 50%;z-index: 0;}#sk-container-id-1 div.sk-serial {display: flex;flex-direction: column;align-items: center;background-color: white;padding-right: 0.2em;padding-left: 0.2em;position: relative;}#sk-container-id-1 div.sk-item {position: relative;z-index: 1;}#sk-container-id-1 div.sk-parallel {display: flex;align-items: stretch;justify-content: center;background-color: white;position: relative;}#sk-container-id-1 div.sk-item::before, #sk-container-id-1 div.sk-parallel-item::before {content: \"\";position: absolute;border-left: 1px solid gray;box-sizing: border-box;top: 0;bottom: 0;left: 50%;z-index: -1;}#sk-container-id-1 div.sk-parallel-item {display: flex;flex-direction: column;z-index: 1;position: relative;background-color: white;}#sk-container-id-1 div.sk-parallel-item:first-child::after {align-self: flex-end;width: 50%;}#sk-container-id-1 div.sk-parallel-item:last-child::after {align-self: flex-start;width: 50%;}#sk-container-id-1 div.sk-parallel-item:only-child::after {width: 0;}#sk-container-id-1 div.sk-dashed-wrapped {border: 1px dashed gray;margin: 0 0.4em 0.5em 0.4em;box-sizing: border-box;padding-bottom: 0.4em;background-color: white;}#sk-container-id-1 div.sk-label label {font-family: monospace;font-weight: bold;display: inline-block;line-height: 1.2em;}#sk-container-id-1 div.sk-label-container {text-align: center;}#sk-container-id-1 div.sk-container {/* jupyter's `normalize.less` sets `[hidden] { display: none; }` but bootstrap.min.css set `[hidden] { display: none !important; }` so we also need the `!important` here to be able to override the default hidden behavior on the sphinx rendered scikit-learn.org. See: https://github.com/scikit-learn/scikit-learn/issues/21755 */display: inline-block !important;position: relative;}#sk-container-id-1 div.sk-text-repr-fallback {display: none;}</style><div id=\"sk-container-id-1\" class=\"sk-top-container\"><div class=\"sk-text-repr-fallback\"><pre>KNeighborsClassifier()</pre><b>In a Jupyter environment, please rerun this cell to show the HTML representation or trust the notebook. <br />On GitHub, the HTML representation is unable to render, please try loading this page with nbviewer.org.</b></div><div class=\"sk-container\" hidden><div class=\"sk-item\"><div class=\"sk-estimator sk-toggleable\"><input class=\"sk-toggleable__control sk-hidden--visually\" id=\"sk-estimator-id-1\" type=\"checkbox\" checked><label for=\"sk-estimator-id-1\" class=\"sk-toggleable__label sk-toggleable__label-arrow\">KNeighborsClassifier</label><div class=\"sk-toggleable__content\"><pre>KNeighborsClassifier()</pre></div></div></div></div></div>"
      ],
      "text/plain": [
       "KNeighborsClassifier()"
      ]
     },
     "execution_count": 9,
     "metadata": {},
     "output_type": "execute_result"
    }
   ],
   "source": [
    "#naive bayes\n",
    "#Gaussian Naive Bayes classifier can handle continuous data.\n",
    "nb_bow = MultinomialNB()\n",
    "nb_bow.fit(X_train_bow, Y_train)\n",
    "\n",
    "nb_tfidf = MultinomialNB()\n",
    "nb_tfidf.fit(X_train_tfidf, Y_train)\n",
    "\n",
    "nb_w2v = GaussianNB()\n",
    "nb_w2v.fit(X_train_w2v, Y_train)\n",
    "\n",
    "#KNN\n",
    "knn_bow = KNeighborsClassifier(n_neighbors=5)\n",
    "knn_bow.fit(X_train_bow, Y_train)\n",
    "\n",
    "knn_tfidf = KNeighborsClassifier(n_neighbors=5)\n",
    "knn_tfidf.fit(X_train_tfidf, Y_train)\n",
    "\n",
    "knn_w2v = KNeighborsClassifier(n_neighbors=5)\n",
    "knn_w2v.fit(X_train_w2v, Y_train)\n",
    "\n"
   ]
  },
  {
   "cell_type": "code",
   "execution_count": 10,
   "metadata": {},
   "outputs": [
    {
     "data": {
      "text/html": [
       "<style>#sk-container-id-2 {color: black;}#sk-container-id-2 pre{padding: 0;}#sk-container-id-2 div.sk-toggleable {background-color: white;}#sk-container-id-2 label.sk-toggleable__label {cursor: pointer;display: block;width: 100%;margin-bottom: 0;padding: 0.3em;box-sizing: border-box;text-align: center;}#sk-container-id-2 label.sk-toggleable__label-arrow:before {content: \"▸\";float: left;margin-right: 0.25em;color: #696969;}#sk-container-id-2 label.sk-toggleable__label-arrow:hover:before {color: black;}#sk-container-id-2 div.sk-estimator:hover label.sk-toggleable__label-arrow:before {color: black;}#sk-container-id-2 div.sk-toggleable__content {max-height: 0;max-width: 0;overflow: hidden;text-align: left;background-color: #f0f8ff;}#sk-container-id-2 div.sk-toggleable__content pre {margin: 0.2em;color: black;border-radius: 0.25em;background-color: #f0f8ff;}#sk-container-id-2 input.sk-toggleable__control:checked~div.sk-toggleable__content {max-height: 200px;max-width: 100%;overflow: auto;}#sk-container-id-2 input.sk-toggleable__control:checked~label.sk-toggleable__label-arrow:before {content: \"▾\";}#sk-container-id-2 div.sk-estimator input.sk-toggleable__control:checked~label.sk-toggleable__label {background-color: #d4ebff;}#sk-container-id-2 div.sk-label input.sk-toggleable__control:checked~label.sk-toggleable__label {background-color: #d4ebff;}#sk-container-id-2 input.sk-hidden--visually {border: 0;clip: rect(1px 1px 1px 1px);clip: rect(1px, 1px, 1px, 1px);height: 1px;margin: -1px;overflow: hidden;padding: 0;position: absolute;width: 1px;}#sk-container-id-2 div.sk-estimator {font-family: monospace;background-color: #f0f8ff;border: 1px dotted black;border-radius: 0.25em;box-sizing: border-box;margin-bottom: 0.5em;}#sk-container-id-2 div.sk-estimator:hover {background-color: #d4ebff;}#sk-container-id-2 div.sk-parallel-item::after {content: \"\";width: 100%;border-bottom: 1px solid gray;flex-grow: 1;}#sk-container-id-2 div.sk-label:hover label.sk-toggleable__label {background-color: #d4ebff;}#sk-container-id-2 div.sk-serial::before {content: \"\";position: absolute;border-left: 1px solid gray;box-sizing: border-box;top: 0;bottom: 0;left: 50%;z-index: 0;}#sk-container-id-2 div.sk-serial {display: flex;flex-direction: column;align-items: center;background-color: white;padding-right: 0.2em;padding-left: 0.2em;position: relative;}#sk-container-id-2 div.sk-item {position: relative;z-index: 1;}#sk-container-id-2 div.sk-parallel {display: flex;align-items: stretch;justify-content: center;background-color: white;position: relative;}#sk-container-id-2 div.sk-item::before, #sk-container-id-2 div.sk-parallel-item::before {content: \"\";position: absolute;border-left: 1px solid gray;box-sizing: border-box;top: 0;bottom: 0;left: 50%;z-index: -1;}#sk-container-id-2 div.sk-parallel-item {display: flex;flex-direction: column;z-index: 1;position: relative;background-color: white;}#sk-container-id-2 div.sk-parallel-item:first-child::after {align-self: flex-end;width: 50%;}#sk-container-id-2 div.sk-parallel-item:last-child::after {align-self: flex-start;width: 50%;}#sk-container-id-2 div.sk-parallel-item:only-child::after {width: 0;}#sk-container-id-2 div.sk-dashed-wrapped {border: 1px dashed gray;margin: 0 0.4em 0.5em 0.4em;box-sizing: border-box;padding-bottom: 0.4em;background-color: white;}#sk-container-id-2 div.sk-label label {font-family: monospace;font-weight: bold;display: inline-block;line-height: 1.2em;}#sk-container-id-2 div.sk-label-container {text-align: center;}#sk-container-id-2 div.sk-container {/* jupyter's `normalize.less` sets `[hidden] { display: none; }` but bootstrap.min.css set `[hidden] { display: none !important; }` so we also need the `!important` here to be able to override the default hidden behavior on the sphinx rendered scikit-learn.org. See: https://github.com/scikit-learn/scikit-learn/issues/21755 */display: inline-block !important;position: relative;}#sk-container-id-2 div.sk-text-repr-fallback {display: none;}</style><div id=\"sk-container-id-2\" class=\"sk-top-container\"><div class=\"sk-text-repr-fallback\"><pre>LinearSVC(dual=False, max_iter=10000)</pre><b>In a Jupyter environment, please rerun this cell to show the HTML representation or trust the notebook. <br />On GitHub, the HTML representation is unable to render, please try loading this page with nbviewer.org.</b></div><div class=\"sk-container\" hidden><div class=\"sk-item\"><div class=\"sk-estimator sk-toggleable\"><input class=\"sk-toggleable__control sk-hidden--visually\" id=\"sk-estimator-id-2\" type=\"checkbox\" checked><label for=\"sk-estimator-id-2\" class=\"sk-toggleable__label sk-toggleable__label-arrow\">LinearSVC</label><div class=\"sk-toggleable__content\"><pre>LinearSVC(dual=False, max_iter=10000)</pre></div></div></div></div></div>"
      ],
      "text/plain": [
       "LinearSVC(dual=False, max_iter=10000)"
      ]
     },
     "execution_count": 10,
     "metadata": {},
     "output_type": "execute_result"
    }
   ],
   "source": [
    "#SVM\n",
    "#SVM performs better when the data is standarised or normalised, but in word2vec -> data is scaled\n",
    "# scaler = StandardScaler()\n",
    "\n",
    "# X_train_w2v_scaled = scaler.fit_transform(X_train_w2v)\n",
    "# X_test_w2v_scaled = scaler.fit_transform(X_test_w2v)\n",
    "\n",
    "svm_bow = LinearSVC(dual=False, max_iter=10000)\n",
    "svm_bow.fit(X_train_bow, Y_train)\n",
    "\n",
    "svm_tfidf = LinearSVC(dual=False, max_iter=10000)\n",
    "svm_tfidf.fit(X_train_tfidf, Y_train)\n",
    "\n",
    "svm_w2v = LinearSVC(dual=False, max_iter=10000)\n",
    "svm_w2v.fit(X_train_w2v, Y_train)"
   ]
  },
  {
   "cell_type": "code",
   "execution_count": 11,
   "metadata": {},
   "outputs": [
    {
     "name": "stdout",
     "output_type": "stream",
     "text": [
      "Naive Bayes(Bag of Words) accurancy:  0.9208512673362028\n",
      "Naive Bayes(TF-IDF) accurancy:  0.9298900047824008\n",
      "Naive Bayes(Word2Vec) accurancy:  0.647297943567671\n",
      "\n",
      "KNN(Bag of Words) accurancy:  0.9289813486370158\n",
      "KNN(TF-IDF) accurancy:  0.9301769488283118\n",
      "KNN(Word2Vec) accurancy:  0.9194165471066476\n",
      "\n",
      "SVM(Bag of Words) accurancy:  0.9245337159253946\n",
      "SVM(TF-IDF) accurancy:  0.9331420373027259\n",
      "SVM(Word2Vec) accurancy:  0.9303204208512673\n"
     ]
    }
   ],
   "source": [
    "#Naive bayes\n",
    "nb_pred_bow = nb_bow.predict(X_test_bow)\n",
    "nb_pred_tfidf = nb_tfidf.predict(X_test_tfidf)\n",
    "nb_pred_w2v = nb_w2v.predict(X_test_w2v)\n",
    "#KNN\n",
    "knn_pred_bow = knn_bow.predict(X_test_bow)\n",
    "knn_pred_tfidf = knn_tfidf.predict(X_test_tfidf)\n",
    "knn_pred_w2v = knn_w2v.predict(X_test_w2v)\n",
    "#SVM\n",
    "svm_pred_bow = svm_bow.predict(X_test_bow)\n",
    "svm_pred_tfidf = svm_tfidf.predict(X_test_tfidf)\n",
    "svm_pred_w2v = svm_w2v.predict(X_test_w2v)\n",
    "\n",
    "print('Naive Bayes(Bag of Words) accurancy: ', accuracy_score(Y_test, nb_pred_bow))\n",
    "print('Naive Bayes(TF-IDF) accurancy: ', accuracy_score(Y_test, nb_pred_tfidf))\n",
    "print('Naive Bayes(Word2Vec) accurancy: ', accuracy_score(Y_test, nb_pred_w2v))\n",
    "print()\n",
    "print('KNN(Bag of Words) accurancy: ', accuracy_score(Y_test, knn_pred_bow))\n",
    "print('KNN(TF-IDF) accurancy: ', accuracy_score(Y_test, knn_pred_tfidf))\n",
    "print('KNN(Word2Vec) accurancy: ', accuracy_score(Y_test, knn_pred_w2v))\n",
    "print()\n",
    "print('SVM(Bag of Words) accurancy: ', accuracy_score(Y_test, svm_pred_bow))\n",
    "print('SVM(TF-IDF) accurancy: ', accuracy_score(Y_test, svm_pred_tfidf))\n",
    "print('SVM(Word2Vec) accurancy: ', accuracy_score(Y_test, svm_pred_w2v))\n"
   ]
  },
  {
   "cell_type": "code",
   "execution_count": 12,
   "metadata": {},
   "outputs": [],
   "source": [
    "file1 = 'D:/Study/College/IV Sem/Mini Project/Codes/Trained Models/FreshModels/nb_bow.sav'\n",
    "file2 = 'D:/Study/College/IV Sem/Mini Project/Codes/Trained Models/FreshModels/nb_tfidf.sav'\n",
    "file3 = 'D:/Study/College/IV Sem/Mini Project/Codes/Trained Models/FreshModels/nb_w2v.sav'\n",
    "pickle.dump(nb_bow, open(file1, 'wb'))\n",
    "pickle.dump(nb_tfidf, open(file2, 'wb'))\n",
    "pickle.dump(nb_w2v, open(file3, 'wb'))\n",
    "file4 = 'D:/Study/College/IV Sem/Mini Project/Codes/Trained Models/FreshModels/knn_bow.sav'\n",
    "file5 = 'D:/Study/College/IV Sem/Mini Project/Codes/Trained Models/FreshModels/knn_tfidf.sav'\n",
    "file6 = 'D:/Study/College/IV Sem/Mini Project/Codes/Trained Models/FreshModels/knn_w2v.sav'\n",
    "pickle.dump(knn_bow, open(file4, 'wb'))\n",
    "pickle.dump(knn_tfidf, open(file5, 'wb'))\n",
    "pickle.dump(knn_w2v, open(file6, 'wb'))\n",
    "file7 = 'D:/Study/College/IV Sem/Mini Project/Codes/Trained Models/FreshModels/svm_bow.sav'\n",
    "file8 = 'D:/Study/College/IV Sem/Mini Project/Codes/Trained Models/FreshModels/svm_tfidf.sav'\n",
    "file9 = 'D:/Study/College/IV Sem/Mini Project/Codes/Trained Models/FreshModels/svm_w2v.sav'\n",
    "pickle.dump(svm_bow, open(file7, 'wb'))\n",
    "pickle.dump(svm_tfidf, open(file8, 'wb'))\n",
    "pickle.dump(svm_w2v, open(file9, 'wb'))"
   ]
  }
 ],
 "metadata": {
  "kernelspec": {
   "display_name": "Python 3",
   "language": "python",
   "name": "python3"
  },
  "language_info": {
   "codemirror_mode": {
    "name": "ipython",
    "version": 3
   },
   "file_extension": ".py",
   "mimetype": "text/x-python",
   "name": "python",
   "nbconvert_exporter": "python",
   "pygments_lexer": "ipython3",
   "version": "3.11.1"
  }
 },
 "nbformat": 4,
 "nbformat_minor": 2
}
